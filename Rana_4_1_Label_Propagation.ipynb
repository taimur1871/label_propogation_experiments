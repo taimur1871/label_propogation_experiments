{
  "nbformat": 4,
  "nbformat_minor": 0,
  "metadata": {
    "kernelspec": {
      "display_name": "Python 3",
      "language": "python",
      "name": "python3"
    },
    "language_info": {
      "codemirror_mode": {
        "name": "ipython",
        "version": 3
      },
      "file_extension": ".py",
      "mimetype": "text/x-python",
      "name": "python",
      "nbconvert_exporter": "python",
      "pygments_lexer": "ipython3",
      "version": "3.8.5"
    },
    "colab": {
      "name": "Rana 4.1_Label_Propagation.ipynb",
      "provenance": [],
      "collapsed_sections": [],
      "include_colab_link": true
    }
  },
  "cells": [
    {
      "cell_type": "markdown",
      "metadata": {
        "id": "view-in-github",
        "colab_type": "text"
      },
      "source": [
        "<a href=\"https://colab.research.google.com/github/taimur1871/label_propogation_experiments/blob/main/Rana_4_1_Label_Propagation.ipynb\" target=\"_parent\"><img src=\"https://colab.research.google.com/assets/colab-badge.svg\" alt=\"Open In Colab\"/></a>"
      ]
    },
    {
      "cell_type": "markdown",
      "metadata": {
        "id": "ieUiNqS3KCZw"
      },
      "source": [
        "# Label Propagation\n",
        "\n",
        "## Label propagation is similar to training a classification model and then using that model to make predictions on test data. The key difference is that in general, our analogue to the test data has no labels against which to evaluate our model. In this exercise, we keep the entire set of true labels for illustrative purposes, but the vast marjority of them play no role in training the model. \n",
        "\n",
        "## This exercise is adapted from scikit-learn's [tutorial](https://scikit-learn.org/stable/auto_examples/semi_supervised/plot_label_propagation_digits.html) on zero shot learning ."
      ]
    },
    {
      "cell_type": "markdown",
      "metadata": {
        "id": "IESgGiUAlfZn"
      },
      "source": [
        "### Load the necessary modules and functions"
      ]
    },
    {
      "cell_type": "code",
      "metadata": {
        "id": "hOVZd8fjgJyK"
      },
      "source": [
        "import numpy as np\n",
        "import matplotlib.pyplot as plt\n",
        "\n",
        "from scipy import stats\n",
        "\n",
        "from sklearn import datasets\n",
        "from sklearn.semi_supervised import LabelSpreading\n",
        "\n",
        "from sklearn.metrics import confusion_matrix, classification_report"
      ],
      "execution_count": 1,
      "outputs": []
    },
    {
      "cell_type": "markdown",
      "metadata": {
        "id": "0An6u8e9loVQ"
      },
      "source": [
        "### Exercise: Load and preprocess the data. \n",
        "1. Shuffle the indices\n",
        "2. Use the shuffled indices to extract 1000 random samples from the features data\n",
        "3. Extract the corresponding 1000 labels and images\n",
        "4. Copy the labels. Treat the first 50 shuffled samples as labeled data and the rest as unlabeled data. Replace the labels after the first 50 with -1.\n",
        "\n",
        "We'll use this copy of our labels (with 50 labels known and the other 950 hidden) to train our model, and use the original copy (with all 1000 labels known) to evaluate the model."
      ]
    },
    {
      "cell_type": "code",
      "metadata": {
        "id": "XyaWhrhCgJyO"
      },
      "source": [
        "# Load the digits dataset\n",
        "# digits = {data,target,indices}; n = 1797\n",
        "digits = datasets.load_digits()\n",
        "\n",
        "# Set the random state to 2 for reproducibility\n",
        "rng = np.random.RandomState(2)\n",
        "\n",
        "### START CODE HERE ###\n",
        "# Initialize the indices as an ordered array, with each element corresponding to a sample in the dataset\n",
        "indices = np.arange(len(digits.data))\n",
        "\n",
        "# Shuffle the indices\n",
        "rng.shuffle(indices)\n",
        "\n",
        "# Use the shuffled indices to extract 1000 feature vectors, labels, and images\n",
        "n_total_samples = len(digits.target[indices[:1000]])\n",
        "# Features\n",
        "X = digits.data[indices[:1000]]\n",
        "# Labels\n",
        "y = digits.target[indices[:1000]]\n",
        "# Images\n",
        "images = digits.images[indices[:1000]]\n",
        "\n",
        "# Copy the labels\n",
        "y_train = np.copy(y)\n",
        "\n",
        "# Replace all of the elements of y_train after the first 50 with -1, rendering them unlabeled\n",
        "n_labeled_points = 50\n",
        "# Create an ordered array of indices of the training data\n",
        "train_indices = np.arange(len(y_train))\n",
        "# Define the training data indices after n_labeled_points as unlabeled\n",
        "unlabeled_set = train_indices[n_labeled_points:]\n",
        "# Conduct the label replacement\n",
        "y_train[unlabeled_set] = -1\n",
        "### END CODE HERE ###"
      ],
      "execution_count": 2,
      "outputs": []
    },
    {
      "cell_type": "markdown",
      "metadata": {
        "id": "Ij_hVMtyvomW"
      },
      "source": [
        "### Verify that the labels are randomly distributed and all the labels after the first 50 in `y_train` are hidden"
      ]
    },
    {
      "cell_type": "code",
      "metadata": {
        "id": "39CAoaBzgJyR",
        "outputId": "9c894cea-9bc9-48a3-9147-06afb0f37b20",
        "colab": {
          "base_uri": "https://localhost:8080/"
        }
      },
      "source": [
        "print(y_train[0:100])"
      ],
      "execution_count": 3,
      "outputs": [
        {
          "output_type": "stream",
          "text": [
            "[ 4  0  9  1  4  7  1  5  1  6  6  7  6  1  5  5  4  6  2  7  4  6  4  1\n",
            "  5  2  9  5  4  6  5  6  3  4  0  9  9  8  4  6  8  8  5  7  9  6  9  6\n",
            "  1  3 -1 -1 -1 -1 -1 -1 -1 -1 -1 -1 -1 -1 -1 -1 -1 -1 -1 -1 -1 -1 -1 -1\n",
            " -1 -1 -1 -1 -1 -1 -1 -1 -1 -1 -1 -1 -1 -1 -1 -1 -1 -1 -1 -1 -1 -1 -1 -1\n",
            " -1 -1 -1 -1]\n"
          ],
          "name": "stdout"
        }
      ]
    },
    {
      "cell_type": "markdown",
      "metadata": {
        "id": "40hk3UKewEZe"
      },
      "source": [
        "### Exercise: Train the label propagation model with `gamma = 0.25` and `max_iter = 20`\n",
        "\n",
        "### Make sure you pass in the correct version of the target array, i.e. the one containing unlabeled data"
      ]
    },
    {
      "cell_type": "code",
      "metadata": {
        "id": "8wHcs3qkgJyW",
        "outputId": "ed2fc1d3-82e8-433c-befb-b65eb4a7d85f",
        "colab": {
          "base_uri": "https://localhost:8080/"
        }
      },
      "source": [
        "### START CODE HERE ###\n",
        "# Initialize the model\n",
        "lp_model = LabelSpreading(gamma=.25, max_iter=20)\n",
        "# Train the model\n",
        "lp_model.fit(X, y_train)\n",
        "### END CODE HERE ###"
      ],
      "execution_count": 4,
      "outputs": [
        {
          "output_type": "execute_result",
          "data": {
            "text/plain": [
              "LabelSpreading(alpha=0.2, gamma=0.25, kernel='rbf', max_iter=20, n_jobs=None,\n",
              "               n_neighbors=7, tol=0.001)"
            ]
          },
          "metadata": {
            "tags": []
          },
          "execution_count": 4
        }
      ]
    },
    {
      "cell_type": "markdown",
      "metadata": {
        "id": "LTBwLj2Gy8qM"
      },
      "source": [
        "### Exercise: Evaluate the model's performance on the unlabeled data"
      ]
    },
    {
      "cell_type": "code",
      "metadata": {
        "id": "CjFO-PxjgJya",
        "outputId": "3b4daa28-7e65-453c-e9fe-856e809ee708",
        "colab": {
          "base_uri": "https://localhost:8080/"
        }
      },
      "source": [
        "### START CODE HERE ###\n",
        "# Extract the label predictions for the unlabeled data\n",
        "predicted_labels = lp_model.transduction_[unlabeled_set]\n",
        "# Extract the true labels of the unlabeled data\n",
        "true_labels = y[unlabeled_set]\n",
        "# Compute the confusion matrix between the true and predicted labels of the unlabeled data\n",
        "cm = confusion_matrix(true_labels, predicted_labels)\n",
        "### END CODE HERE ###\n",
        "print(\"Label Spreading model: %d labeled & %d unlabeled points (%d total)\" %\n",
        "      (n_labeled_points, n_total_samples - n_labeled_points, n_total_samples))\n",
        "\n",
        "print(classification_report(true_labels, predicted_labels))\n",
        "\n",
        "print(\"Confusion matrix\")\n",
        "print(cm)"
      ],
      "execution_count": 5,
      "outputs": [
        {
          "output_type": "stream",
          "text": [
            "Label Spreading model: 50 labeled & 950 unlabeled points (1000 total)\n",
            "              precision    recall  f1-score   support\n",
            "\n",
            "           0       1.00      1.00      1.00        98\n",
            "           1       0.85      0.90      0.88        93\n",
            "           2       0.99      0.78      0.87        91\n",
            "           3       0.92      0.90      0.91       108\n",
            "           4       0.97      1.00      0.98        88\n",
            "           5       0.97      0.93      0.95       102\n",
            "           6       0.97      1.00      0.99       100\n",
            "           7       0.98      0.91      0.94        91\n",
            "           8       0.86      0.82      0.84        87\n",
            "           9       0.77      0.97      0.86        92\n",
            "\n",
            "    accuracy                           0.92       950\n",
            "   macro avg       0.93      0.92      0.92       950\n",
            "weighted avg       0.93      0.92      0.92       950\n",
            "\n",
            "Confusion matrix\n",
            "[[ 98   0   0   0   0   0   0   0   0   0]\n",
            " [  0  84   0   0   1   1   0   0   3   4]\n",
            " [  0  12  71   0   0   0   0   1   7   0]\n",
            " [  0   0   0  97   0   0   0   1   0  10]\n",
            " [  0   0   0   0  88   0   0   0   0   0]\n",
            " [  0   0   0   0   0  95   0   0   0   7]\n",
            " [  0   0   0   0   0   0 100   0   0   0]\n",
            " [  0   0   0   0   0   2   0  83   0   6]\n",
            " [  0   3   1   8   1   0   3   0  71   0]\n",
            " [  0   0   0   0   1   0   0   0   2  89]]\n"
          ],
          "name": "stdout"
        }
      ]
    },
    {
      "cell_type": "markdown",
      "metadata": {
        "id": "Hwlk3ptY1YrL"
      },
      "source": [
        "### Exercise: Find the 10 most uncertain labels in descending order of uncertainty, i.e. the labels for which the model made the least confident predictions. Plot the associated images. Observe any discrepancies between predicted and true labels. Do you see any patterns? What might account for them? "
      ]
    },
    {
      "cell_type": "code",
      "metadata": {
        "id": "2ajvW97mgJyf",
        "outputId": "cfd93d47-34d6-41e6-d898-f50e782eecf4",
        "colab": {
          "base_uri": "https://localhost:8080/",
          "height": 314
        }
      },
      "source": [
        "### START CODE HERE ###\n",
        "# Calculate uncertainty values for each transduced distribution\n",
        "# You may use scipy stats' entropy() function useful.\n",
        "pred_entropies = stats.entropy(lp_model.label_distributions_.T)\n",
        "\n",
        "# Pick the top 10 most uncertain labels, in descending order of uncertainty\n",
        "uncertainty_index = np.argsort(pred_entropies)[-10:]\n",
        "\n",
        "### END CODE HERE ###\n",
        "\n",
        "# Plot\n",
        "f = plt.figure(figsize=(7, 5))\n",
        "for index, image_index in enumerate(uncertainty_index):\n",
        "    image = images[image_index]\n",
        "\n",
        "    sub = f.add_subplot(2, 5, index + 1)\n",
        "    sub.imshow(image, cmap=plt.cm.gray_r)\n",
        "    plt.xticks([])\n",
        "    plt.yticks([])\n",
        "    sub.set_title('predict: %i\\ntrue: %i' % (\n",
        "        lp_model.transduction_[image_index], y[image_index]))\n",
        "\n",
        "f.suptitle('Learning with small amount of labeled data')\n",
        "plt.show()"
      ],
      "execution_count": 6,
      "outputs": [
        {
          "output_type": "display_data",
          "data": {
            "image/png": "[encoded data removed]",
            "text/plain": [
              "<Figure size 504x360 with 10 Axes>"
            ]
          },
          "metadata": {
            "tags": []
          }
        }
      ]
    },
    {
      "cell_type": "markdown",
      "metadata": {
        "id": "xD119mlU69jb"
      },
      "source": [
        "### Exercise: Repeat the experiment with 10, 100, and 250 labeled images. How do the differing numbers of labeled samples affect the model's performance? Which number detections yield the most errors?\n",
        "\n"
      ]
    },
    {
      "cell_type": "markdown",
      "metadata": {
        "id": "RQdR0UqJy9c0"
      },
      "source": [
        "## Sample Tests for Sizes 10, 100, 250 & 500"
      ]
    },
    {
      "cell_type": "code",
      "metadata": {
        "id": "ziIXBKO298DX"
      },
      "source": [
        "# function to extract features, labels and images for various number of images\n",
        "def get_data(digits, num_images):\n",
        "  # Use the shuffled indices to extracting 10 feature vectors, labels, and images\n",
        "  n_total_samples = len(digits.target[indices[:num_images]])\n",
        "  X = digits.data[indices[:num_images]] # features\n",
        "  y = digits.target[indices[:num_images]] # Labels\n",
        "  images = digits.images[indices[:num_images]] # Images\n",
        "  y_train = np.copy(y)\n",
        "\n",
        "  # Replace all of the elements of y_train after the first 50 with -1, rendering them unlabeled\n",
        "  n_labeled_points = num_images//5\n",
        "  # Create an ordered array of indices of the training data\n",
        "  train_indices = np.arange(len(y_train))\n",
        "  # Define the training data indices after n_labeled_points as unlabeled\n",
        "  unlabeled_set = train_indices[n_labeled_points:]\n",
        "  # Conduct the label replacement\n",
        "  y_train[unlabeled_set] = -1\n",
        "\n",
        "  return X, y_train, unlabeled_set, y, images"
      ],
      "execution_count": 7,
      "outputs": []
    },
    {
      "cell_type": "code",
      "metadata": {
        "id": "A1Y9X6bH5RYB"
      },
      "source": [
        "# function to instaniate model and create confusion matrix\n",
        "def model_lp(X, y_train, unlabeled_set, y, images):\n",
        "  lp_model = LabelSpreading(gamma=.25, max_iter=20)\n",
        "  lp_model.fit(X, y_train)\n",
        "\n",
        "  predicted_labels = lp_model.transduction_[unlabeled_set]\n",
        "  # Extract the true labels of the unlabeled data\n",
        "  true_labels = y[unlabeled_set]\n",
        "  # Compute the confusion matrix between the true and predicted labels of the unlabeled data\n",
        "  cm = confusion_matrix(true_labels, predicted_labels)\n",
        "  print(classification_report(true_labels, predicted_labels))\n",
        "  print(\"Confusion matrix\")\n",
        "  print(cm)\n",
        "\n",
        "  pred_entropies = stats.entropy(lp_model.label_distributions_.T)\n",
        "  uncertainty_index = np.argsort(pred_entropies)[-10:]\n",
        "\n",
        "  f = plt.figure(figsize=(7, 5))\n",
        "  for index, image_index in enumerate(uncertainty_index):\n",
        "    image = images[image_index]\n",
        "\n",
        "    sub = f.add_subplot(2, 5, index + 1)\n",
        "    sub.imshow(image, cmap=plt.cm.gray_r)\n",
        "    plt.xticks([])\n",
        "    plt.yticks([])\n",
        "    sub.set_title('predict: %i\\ntrue: %i' % (\n",
        "        lp_model.transduction_[image_index], y[image_index]))\n",
        "\n",
        "  f.suptitle('Learning with small amount of labeled data')\n",
        "  plt.show()"
      ],
      "execution_count": 8,
      "outputs": []
    },
    {
      "cell_type": "code",
      "metadata": {
        "id": "EHv5g-p2DxOV",
        "outputId": "a5e967c4-f5bf-474f-bd2d-52c22e251ae1",
        "colab": {
          "base_uri": "https://localhost:8080/",
          "height": 1000
        }
      },
      "source": [
        "# Load the digits dataset\n",
        "digits = datasets.load_digits()\n",
        "rng = np.random.RandomState(2)\n",
        "# Initialize the indices as an ordered array\n",
        "indices = np.arange(len(digits.data))\n",
        "rng.shuffle(indices) # Shuffle the indices\n",
        "\n",
        "num_pics = [10, 100, 250, 500]\n",
        "\n",
        "for npic in num_pics:\n",
        "  X_tr, y_tr, unlabel_set, y, imgs = get_data(digits, npic)\n",
        "\n",
        "  model_lp(X_tr, y_tr, unlabel_set, y, imgs)"
      ],
      "execution_count": 9,
      "outputs": [
        {
          "output_type": "stream",
          "text": [
            "/usr/local/lib/python3.6/dist-packages/sklearn/metrics/_classification.py:1272: UndefinedMetricWarning: Precision and F-score are ill-defined and being set to 0.0 in labels with no predicted samples. Use `zero_division` parameter to control this behavior.\n",
            "  _warn_prf(average, modifier, msg_start, len(result))\n",
            "/usr/local/lib/python3.6/dist-packages/sklearn/metrics/_classification.py:1272: UndefinedMetricWarning: Recall and F-score are ill-defined and being set to 0.0 in labels with no true samples. Use `zero_division` parameter to control this behavior.\n",
            "  _warn_prf(average, modifier, msg_start, len(result))\n"
          ],
          "name": "stderr"
        },
        {
          "output_type": "stream",
          "text": [
            "              precision    recall  f1-score   support\n",
            "\n",
            "           0       0.00      0.00      0.00       0.0\n",
            "           1       0.00      0.00      0.00       3.0\n",
            "           4       0.00      0.00      0.00       1.0\n",
            "           5       0.00      0.00      0.00       1.0\n",
            "           6       0.00      0.00      0.00       1.0\n",
            "           7       0.00      0.00      0.00       1.0\n",
            "           9       0.00      0.00      0.00       1.0\n",
            "\n",
            "    accuracy                           0.00       8.0\n",
            "   macro avg       0.00      0.00      0.00       8.0\n",
            "weighted avg       0.00      0.00      0.00       8.0\n",
            "\n",
            "Confusion matrix\n",
            "[[0 0 0 0 0 0 0]\n",
            " [0 0 3 0 0 0 0]\n",
            " [1 0 0 0 0 0 0]\n",
            " [1 0 0 0 0 0 0]\n",
            " [1 0 0 0 0 0 0]\n",
            " [1 0 0 0 0 0 0]\n",
            " [1 0 0 0 0 0 0]]\n"
          ],
          "name": "stdout"
        },
        {
          "output_type": "display_data",
          "data": {
            "image/png": "[encoded data removed]",
            "text/plain": [
              "<Figure size 504x360 with 10 Axes>"
            ]
          },
          "metadata": {
            "tags": []
          }
        },
        {
          "output_type": "stream",
          "text": [
            "/usr/local/lib/python3.6/dist-packages/sklearn/metrics/_classification.py:1272: UndefinedMetricWarning: Precision and F-score are ill-defined and being set to 0.0 in labels with no predicted samples. Use `zero_division` parameter to control this behavior.\n",
            "  _warn_prf(average, modifier, msg_start, len(result))\n"
          ],
          "name": "stderr"
        },
        {
          "output_type": "stream",
          "text": [
            "              precision    recall  f1-score   support\n",
            "\n",
            "           0       1.00      1.00      1.00         4\n",
            "           1       0.55      0.75      0.63         8\n",
            "           2       0.50      0.50      0.50         4\n",
            "           3       0.00      0.00      0.00        11\n",
            "           4       0.32      0.67      0.43         9\n",
            "           5       0.90      1.00      0.95         9\n",
            "           6       1.00      0.89      0.94         9\n",
            "           7       0.50      0.86      0.63         7\n",
            "           8       0.00      0.00      0.00        12\n",
            "           9       0.33      0.57      0.42         7\n",
            "\n",
            "    accuracy                           0.56        80\n",
            "   macro avg       0.51      0.62      0.55        80\n",
            "weighted avg       0.45      0.56      0.49        80\n",
            "\n",
            "Confusion matrix\n",
            "[[4 0 0 0 0 0 0 0 0 0]\n",
            " [0 6 0 0 2 0 0 0 0 0]\n",
            " [0 2 2 0 0 0 0 0 0 0]\n",
            " [0 1 2 0 0 0 0 3 0 5]\n",
            " [0 0 0 0 6 0 0 3 0 0]\n",
            " [0 0 0 0 0 9 0 0 0 0]\n",
            " [0 0 0 0 1 0 8 0 0 0]\n",
            " [0 0 0 0 1 0 0 6 0 0]\n",
            " [0 0 0 0 9 0 0 0 0 3]\n",
            " [0 2 0 0 0 1 0 0 0 4]]\n"
          ],
          "name": "stdout"
        },
        {
          "output_type": "display_data",
          "data": {
            "image/png": "[encoded data removed]",
            "text/plain": [
              "<Figure size 504x360 with 10 Axes>"
            ]
          },
          "metadata": {
            "tags": []
          }
        },
        {
          "output_type": "stream",
          "text": [
            "              precision    recall  f1-score   support\n",
            "\n",
            "           0       1.00      1.00      1.00        17\n",
            "           1       1.00      0.74      0.85        23\n",
            "           2       1.00      0.81      0.89        21\n",
            "           3       0.93      0.93      0.93        28\n",
            "           4       1.00      0.87      0.93        15\n",
            "           5       1.00      1.00      1.00        21\n",
            "           6       0.88      1.00      0.93        14\n",
            "           7       0.96      0.92      0.94        24\n",
            "           8       0.67      0.86      0.75        21\n",
            "           9       0.71      0.94      0.81        16\n",
            "\n",
            "    accuracy                           0.90       200\n",
            "   macro avg       0.91      0.91      0.90       200\n",
            "weighted avg       0.92      0.90      0.90       200\n",
            "\n",
            "Confusion matrix\n",
            "[[17  0  0  0  0  0  0  0  0  0]\n",
            " [ 0 17  0  0  0  0  0  0  6  0]\n",
            " [ 0  0 17  0  0  0  1  0  3  0]\n",
            " [ 0  0  0 26  0  0  0  1  0  1]\n",
            " [ 0  0  0  0 13  0  0  0  0  2]\n",
            " [ 0  0  0  0  0 21  0  0  0  0]\n",
            " [ 0  0  0  0  0  0 14  0  0  0]\n",
            " [ 0  0  0  1  0  0  0 22  0  1]\n",
            " [ 0  0  0  0  0  0  1  0 18  2]\n",
            " [ 0  0  0  1  0  0  0  0  0 15]]\n"
          ],
          "name": "stdout"
        },
        {
          "output_type": "display_data",
          "data": {
            "image/png": "[encoded data removed]",
            "text/plain": [
              "<Figure size 504x360 with 10 Axes>"
            ]
          },
          "metadata": {
            "tags": []
          }
        },
        {
          "output_type": "stream",
          "text": [
            "              precision    recall  f1-score   support\n",
            "\n",
            "           0       1.00      1.00      1.00        42\n",
            "           1       1.00      0.98      0.99        41\n",
            "           2       0.97      0.86      0.92        44\n",
            "           3       0.79      0.94      0.86        49\n",
            "           4       0.97      1.00      0.99        34\n",
            "           5       0.95      0.95      0.95        43\n",
            "           6       0.97      1.00      0.99        39\n",
            "           7       1.00      0.86      0.92        42\n",
            "           8       0.80      0.88      0.84        32\n",
            "           9       0.81      0.76      0.79        34\n",
            "\n",
            "    accuracy                           0.93       400\n",
            "   macro avg       0.93      0.92      0.92       400\n",
            "weighted avg       0.93      0.93      0.93       400\n",
            "\n",
            "Confusion matrix\n",
            "[[42  0  0  0  0  0  0  0  0  0]\n",
            " [ 0 40  0  0  0  0  0  0  0  1]\n",
            " [ 0  0 38  4  0  0  0  0  2  0]\n",
            " [ 0  0  0 46  0  0  0  0  2  1]\n",
            " [ 0  0  0  0 34  0  0  0  0  0]\n",
            " [ 0  0  0  0  0 41  0  0  0  2]\n",
            " [ 0  0  0  0  0  0 39  0  0  0]\n",
            " [ 0  0  0  4  0  2  0 36  0  0]\n",
            " [ 0  0  1  0  0  0  1  0 28  2]\n",
            " [ 0  0  0  4  1  0  0  0  3 26]]\n"
          ],
          "name": "stdout"
        },
        {
          "output_type": "display_data",
          "data": {
            "image/png": "[encoded data removed]",
            "text/plain": [
              "<Figure size 504x360 with 10 Axes>"
            ]
          },
          "metadata": {
            "tags": []
          }
        }
      ]
    },
    {
      "cell_type": "markdown",
      "metadata": {
        "id": "tIdjMOivjsZ4"
      },
      "source": [
        "### Results\n",
        "\n",
        "For these tests the unlabeled set was 20% of the total samples. It is quite high especially for smaller size datasets but it did reveal some interesting results. The link below shows scores for precision and recall for various sample sizes.\n",
        "\n",
        "Obviously the smaller samples had very low accuracy.\n",
        "* 10 samples 0 F1 score (the model is just guessing)\n",
        "* 100 samples 0.56 F1 score (still guessing but accurate at least half the time)\n",
        "* 250 samples 0.90 F1 score (much imporved model)\n",
        "* 500 samples 0.93 F1 score (performance plateauing)\n",
        "\n",
        "Based on the above observations it can be seen that performance increases rapidly as number of training samples are increased upto a point. Also to get fairly good performance the number of samples do not need to be very high as long as the starting categories are well defined.\n",
        "\n",
        "In case of 10 and 100 samples the starting categories did not have any representative samples or very low numbers in certain categories so the model had no way to learn and propogate those samples.\n",
        "\n",
        "This can be seen in the predictions, the first model predits either 0 or 4 presumably because it did not have any 0 samples so it assumes any category that it is unable to identify must belong to 0, and 4 becasue it seems like the most readily identifiable or applicable label (can be applied to 1, 7 for example.\n",
        "\n",
        "At 100 samples some categories have more samples than others. Intresting observation in this case is that the model does not accurately predict any of the labels in the categories that are over represented. For example 8 has most samples but it constantly mislabels it as 9 or 4.\n",
        "\n",
        "At 250 samples the predcitions start getting better. However, 8, 9 and 4 still seem to cause problems.\n",
        "\n",
        "At 500 samples the performance improves marginally in terms of F1 score but perfromance in identifying 9 improves. 8 still proves challenging.\n",
        "\n",
        "Overall the number that seems to prove most challenging is 8, it is possible to confuse it with 3, 8, 9 or even 1 depending on the resoltion and handwriting style."
      ]
    },
    {
      "cell_type": "code",
      "metadata": {
        "id": "54aPYJrdJhQ2"
      },
      "source": [
        ""
      ],
      "execution_count": null,
      "outputs": []
    }
  ]
}